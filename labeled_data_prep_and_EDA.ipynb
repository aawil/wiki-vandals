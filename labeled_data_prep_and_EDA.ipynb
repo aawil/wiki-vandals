{
 "cells": [
  {
   "cell_type": "raw",
   "metadata": {},
   "source": [
    "####################################\n",
    "# Project 5: Passion Project       #\n",
    "#                                  #\n",
    "# Investigating anonyous vandalism #\n",
    "# on Wikipedia                     #\n",
    "#                                  #\n",
    "# Human-labeled data preparation   #\n",
    "#                                  #\n",
    "# Aaron Wilson                     #\n",
    "#                                  #\n",
    "# June 19, 2019                    #\n",
    "####################################"
   ]
  },
  {
   "cell_type": "markdown",
   "metadata": {},
   "source": [
    "This human-labeled data comes from the [Wiki labels project](https://en.wikipedia.org/wiki/Wikipedia:Labels/About), courtesy of Aaron Halfaker. Specifically, this is a JSON dataset of 20k labeled observations, available [here](https://labels.wmflabs.org/campaigns/enwiki/4/?tasks). "
   ]
  },
  {
   "cell_type": "code",
   "execution_count": 364,
   "metadata": {},
   "outputs": [],
   "source": [
    "import pandas as pd\n",
    "import numpy as np\n",
    "import json\n",
    "import mwapi\n",
    "import re\n",
    "from bs4 import BeautifulSoup\n",
    "import geoip2.database\n",
    "import geocoder\n",
    "import requests\n",
    "import p5utils"
   ]
  },
  {
   "cell_type": "code",
   "execution_count": 346,
   "metadata": {},
   "outputs": [],
   "source": [
    "with open('./labeled_revs.json', 'r') as f:\n",
    "    labeled_revs = json.load(f)"
   ]
  },
  {
   "cell_type": "code",
   "execution_count": 347,
   "metadata": {},
   "outputs": [
    {
     "data": {
      "text/html": [
       "<div>\n",
       "<style scoped>\n",
       "    .dataframe tbody tr th:only-of-type {\n",
       "        vertical-align: middle;\n",
       "    }\n",
       "\n",
       "    .dataframe tbody tr th {\n",
       "        vertical-align: top;\n",
       "    }\n",
       "\n",
       "    .dataframe thead th {\n",
       "        text-align: right;\n",
       "    }\n",
       "</style>\n",
       "<table border=\"1\" class=\"dataframe\">\n",
       "  <thead>\n",
       "    <tr style=\"text-align: right;\">\n",
       "      <th></th>\n",
       "      <th>campaign_id</th>\n",
       "      <th>data</th>\n",
       "      <th>id</th>\n",
       "      <th>labels</th>\n",
       "    </tr>\n",
       "  </thead>\n",
       "  <tbody>\n",
       "    <tr>\n",
       "      <th>0</th>\n",
       "      <td>4</td>\n",
       "      <td>{'rev_id': 644933637}</td>\n",
       "      <td>180077</td>\n",
       "      <td>[{'data': {'automatic': 'advanced-rights', 'da...</td>\n",
       "    </tr>\n",
       "    <tr>\n",
       "      <th>1</th>\n",
       "      <td>4</td>\n",
       "      <td>{'rev_id': 629393521}</td>\n",
       "      <td>180078</td>\n",
       "      <td>[{'data': {'automatic': 'not-reverted', 'damag...</td>\n",
       "    </tr>\n",
       "    <tr>\n",
       "      <th>2</th>\n",
       "      <td>4</td>\n",
       "      <td>{'rev_id': 655365754}</td>\n",
       "      <td>180079</td>\n",
       "      <td>[{'data': {'automatic': 'advanced-rights', 'da...</td>\n",
       "    </tr>\n",
       "    <tr>\n",
       "      <th>3</th>\n",
       "      <td>4</td>\n",
       "      <td>{'rev_id': 616502017}</td>\n",
       "      <td>180080</td>\n",
       "      <td>[{'data': {'automatic': 'not-reverted', 'damag...</td>\n",
       "    </tr>\n",
       "    <tr>\n",
       "      <th>4</th>\n",
       "      <td>4</td>\n",
       "      <td>{'rev_id': 651762922}</td>\n",
       "      <td>180081</td>\n",
       "      <td>[{'data': {'automatic': 'advanced-rights', 'da...</td>\n",
       "    </tr>\n",
       "  </tbody>\n",
       "</table>\n",
       "</div>"
      ],
      "text/plain": [
       "   campaign_id                   data      id  \\\n",
       "0            4  {'rev_id': 644933637}  180077   \n",
       "1            4  {'rev_id': 629393521}  180078   \n",
       "2            4  {'rev_id': 655365754}  180079   \n",
       "3            4  {'rev_id': 616502017}  180080   \n",
       "4            4  {'rev_id': 651762922}  180081   \n",
       "\n",
       "                                              labels  \n",
       "0  [{'data': {'automatic': 'advanced-rights', 'da...  \n",
       "1  [{'data': {'automatic': 'not-reverted', 'damag...  \n",
       "2  [{'data': {'automatic': 'advanced-rights', 'da...  \n",
       "3  [{'data': {'automatic': 'not-reverted', 'damag...  \n",
       "4  [{'data': {'automatic': 'advanced-rights', 'da...  "
      ]
     },
     "execution_count": 347,
     "metadata": {},
     "output_type": "execute_result"
    }
   ],
   "source": [
    "revs_df = pd.DataFrame(labeled_revs['tasks'])\n",
    "revs_df.head()"
   ]
  },
  {
   "cell_type": "markdown",
   "metadata": {},
   "source": [
    "Looks like we're going to need to do some work de-JSONifying this. Let's take a look at a single 'labels' data point."
   ]
  },
  {
   "cell_type": "code",
   "execution_count": 13,
   "metadata": {},
   "outputs": [
    {
     "data": {
      "text/plain": [
       "[{'data': {'automatic': 'not-reverted',\n",
       "   'damaging': False,\n",
       "   'goodfaith': True,\n",
       "   'unsure': True},\n",
       "  'timestamp': 1436918316.99114,\n",
       "  'user_id': 41948920}]"
      ]
     },
     "execution_count": 13,
     "metadata": {},
     "output_type": "execute_result"
    }
   ],
   "source": [
    "revs_df['labels'].iloc[1]"
   ]
  },
  {
   "cell_type": "markdown",
   "metadata": {},
   "source": [
    "Aaron warned me that some revisions had two labels; actually, some had as many as four! Let's pull them out into separate columns and drop the additional labels."
   ]
  },
  {
   "cell_type": "code",
   "execution_count": 348,
   "metadata": {},
   "outputs": [],
   "source": [
    "revs_df[['labels1', 'labels2', 'labels3', 'labels4']] =\\\n",
    "    pd.DataFrame(revs_df['labels'].values.tolist(), index=revs_df.index)"
   ]
  },
  {
   "cell_type": "code",
   "execution_count": 25,
   "metadata": {},
   "outputs": [],
   "source": [
    "revs_df = revs_df.drop(['labels', 'labels2', 'labels3', 'labels4'], axis=1)"
   ]
  },
  {
   "cell_type": "markdown",
   "metadata": {},
   "source": [
    "Time to extract the revision IDs from the 'data' column, and everything else from 'labels1'."
   ]
  },
  {
   "cell_type": "code",
   "execution_count": 52,
   "metadata": {},
   "outputs": [],
   "source": [
    "def extract_labels(labels):\n",
    "    try:\n",
    "        automatic = labels['data']['automatic']\n",
    "    except KeyError:\n",
    "        automatic = None\n",
    "    damaging = labels['data']['damaging']\n",
    "    goodfaith = labels['data']['goodfaith']\n",
    "    try:\n",
    "        unsure = labels['data']['unsure']\n",
    "    except KeyError:\n",
    "        unsure = None\n",
    "    timestamp = labels['timestamp']\n",
    "    user_id = labels['user_id']\n",
    "    return automatic, damaging, goodfaith, unsure, timestamp, user_id"
   ]
  },
  {
   "cell_type": "code",
   "execution_count": 30,
   "metadata": {},
   "outputs": [],
   "source": [
    "revs_df['rev_id'] = revs_df['data'].map(lambda x: x['rev_id'])"
   ]
  },
  {
   "cell_type": "code",
   "execution_count": 351,
   "metadata": {},
   "outputs": [],
   "source": [
    "revs_df[['automatic', 'damaging', 'goodfaith', 'unsure', 'timestamp', 'user_id']]\\\n",
    "    = pd.DataFrame(revs_df['labels1'].map(extract_labels).tolist())"
   ]
  },
  {
   "cell_type": "markdown",
   "metadata": {},
   "source": [
    "Hmm, what's this 'automatic' value? It looks like the 'damaging' value (which is what we care about for our classification) is always False when 'automatic' exists - that is, revisions are automatically scored as not damaging if the editor had advanced rights (i.e., was a Wikipedia moderator/administrator) or if the edit was not reverted."
   ]
  },
  {
   "cell_type": "code",
   "execution_count": 67,
   "metadata": {},
   "outputs": [
    {
     "data": {
      "text/plain": [
       "advanced-rights    8966\n",
       "not-reverted       7374\n",
       "Name: automatic, dtype: int64"
      ]
     },
     "execution_count": 67,
     "metadata": {},
     "output_type": "execute_result"
    }
   ],
   "source": [
    "revs_df['automatic'].value_counts()"
   ]
  },
  {
   "cell_type": "code",
   "execution_count": 454,
   "metadata": {},
   "outputs": [
    {
     "data": {
      "text/html": [
       "<div>\n",
       "<style scoped>\n",
       "    .dataframe tbody tr th:only-of-type {\n",
       "        vertical-align: middle;\n",
       "    }\n",
       "\n",
       "    .dataframe tbody tr th {\n",
       "        vertical-align: top;\n",
       "    }\n",
       "\n",
       "    .dataframe thead th {\n",
       "        text-align: right;\n",
       "    }\n",
       "</style>\n",
       "<table border=\"1\" class=\"dataframe\">\n",
       "  <thead>\n",
       "    <tr style=\"text-align: right;\">\n",
       "      <th></th>\n",
       "      <th>campaign_id</th>\n",
       "      <th>data</th>\n",
       "      <th>id</th>\n",
       "      <th>labels</th>\n",
       "      <th>labels1</th>\n",
       "      <th>labels2</th>\n",
       "      <th>labels3</th>\n",
       "      <th>labels4</th>\n",
       "      <th>automatic</th>\n",
       "      <th>damaging</th>\n",
       "      <th>goodfaith</th>\n",
       "      <th>unsure</th>\n",
       "      <th>timestamp</th>\n",
       "      <th>user_id</th>\n",
       "    </tr>\n",
       "  </thead>\n",
       "  <tbody>\n",
       "  </tbody>\n",
       "</table>\n",
       "</div>"
      ],
      "text/plain": [
       "Empty DataFrame\n",
       "Columns: [campaign_id, data, id, labels, labels1, labels2, labels3, labels4, automatic, damaging, goodfaith, unsure, timestamp, user_id]\n",
       "Index: []"
      ]
     },
     "execution_count": 454,
     "metadata": {},
     "output_type": "execute_result"
    }
   ],
   "source": [
    "revs_df.query('automatic==\"not-reverted\" & damaging==True')"
   ]
  },
  {
   "cell_type": "markdown",
   "metadata": {},
   "source": [
    "In terms of damaging/non-damaging, the majority of these 20k cases were actually automatically coded - only about 3,500 of them were actually hand-labeled."
   ]
  },
  {
   "cell_type": "code",
   "execution_count": 100,
   "metadata": {},
   "outputs": [
    {
     "data": {
      "text/plain": [
       "False    2728\n",
       "True      804\n",
       "Name: damaging, dtype: int64"
      ]
     },
     "execution_count": 100,
     "metadata": {},
     "output_type": "execute_result"
    }
   ],
   "source": [
    "revs_df[revs_df['automatic'].isna()]['damaging'].value_counts()"
   ]
  },
  {
   "cell_type": "markdown",
   "metadata": {},
   "source": [
    "Since we know we only want anonymous (IP address) edits, we can take out all of the advanced-rights cases."
   ]
  },
  {
   "cell_type": "code",
   "execution_count": 109,
   "metadata": {},
   "outputs": [],
   "source": [
    "revs_df_noadv = revs_df[revs_df['automatic'] != 'advanced-rights']"
   ]
  },
  {
   "cell_type": "markdown",
   "metadata": {},
   "source": [
    "Time to get some needed metadata from the Wikipedia API. The `get_metadata` function (see `p5utils.py`) gets various necessary data from the Wikipedia API: the namespace (i.e., whether the edit was to an actual article or something else, like a user page), title, size of page, size of edit, user ID, and the actual text added in the edit (scraped from the diff with Beautiful Soup).\n",
    "\n",
    "Because the repeated API queries had a tendency to occasionally slow down or break, I gathered the metadata in batches of 2,000 and aggregated."
   ]
  },
  {
   "cell_type": "code",
   "execution_count": null,
   "metadata": {},
   "outputs": [],
   "source": [
    "session = mwapi.Session('https://en.wikipedia.org', user_agent='aaron')"
   ]
  },
  {
   "cell_type": "code",
   "execution_count": null,
   "metadata": {},
   "outputs": [],
   "source": [
    "metadata_0_1999 =\\\n",
    "    pd.DataFrame(revs_df_noadv[:2000]\\\n",
    "                 .apply(lambda x: p5utils.get_metadata(x['rev_id'], session), axis=1)\\\n",
    "                 .tolist())"
   ]
  },
  {
   "cell_type": "code",
   "execution_count": null,
   "metadata": {},
   "outputs": [],
   "source": [
    "metadata_2000_3999 =\\\n",
    "    pd.DataFrame(revs_df_noadv[2000:4000]\\\n",
    "                 .apply(lambda x: p5utils.get_metadata(x['rev_id'], session), axis=1)\\\n",
    "                 .tolist())"
   ]
  },
  {
   "cell_type": "code",
   "execution_count": null,
   "metadata": {},
   "outputs": [],
   "source": [
    "metadata_4000_5999 =\\\n",
    "    pd.DataFrame(revs_df_noadv[4000:6000]\\\n",
    "                 .apply(lambda x: p5utils.get_metadata(x['rev_id'], session), axis=1)\\\n",
    "                 .tolist())"
   ]
  },
  {
   "cell_type": "code",
   "execution_count": null,
   "metadata": {},
   "outputs": [],
   "source": [
    "metadata_6000_7999 =\\\n",
    "    pd.DataFrame(revs_df_noadv[6000:8000]\\\n",
    "                 .apply(lambda x: p5utils.get_metadata(x['rev_id'], session), axis=1)\\\n",
    "                 .tolist())"
   ]
  },
  {
   "cell_type": "code",
   "execution_count": null,
   "metadata": {},
   "outputs": [],
   "source": [
    "metadata_8000_9999 =\\\n",
    "    pd.DataFrame(revs_df_noadv[8000:10000]\\\n",
    "                 .apply(lambda x: p5utils.get_metadata(x['rev_id'], session), axis=1)\\\n",
    "                 .tolist())"
   ]
  },
  {
   "cell_type": "code",
   "execution_count": null,
   "metadata": {},
   "outputs": [],
   "source": [
    "metadata_10000_end =\\\n",
    "    pd.DataFrame(revs_df_noadv[10000:]\\\n",
    "                 .apply(lambda x: p5utils.get_metadata(x['rev_id'], session), axis=1)\\\n",
    "                 .tolist())"
   ]
  },
  {
   "cell_type": "code",
   "execution_count": 195,
   "metadata": {},
   "outputs": [],
   "source": [
    "metadata = pd.concat([metadata_0_1999,\n",
    "                      metadata_2000_3999,\n",
    "                      metadata_4000_5999,\n",
    "                      metadata_6000_7999,\n",
    "                      metadata_8000_9999,\n",
    "                      metadata_10000_end]).reset_index(drop=True)\n",
    "\n",
    "metadata.columns = ['namespace', 'title', 'fromsize', 'tosize', 'user', 'additions']"
   ]
  },
  {
   "cell_type": "markdown",
   "metadata": {},
   "source": [
    "Merging in our metadata."
   ]
  },
  {
   "cell_type": "code",
   "execution_count": 188,
   "metadata": {},
   "outputs": [],
   "source": [
    "revs_df_noadv = revs_df_noadv.reset_index(drop=True)"
   ]
  },
  {
   "cell_type": "code",
   "execution_count": 199,
   "metadata": {},
   "outputs": [],
   "source": [
    "labeled = revs_df_noadv.join(metadata)"
   ]
  },
  {
   "cell_type": "markdown",
   "metadata": {},
   "source": [
    "We only want edits to Wikipedia articles, not talk pages etc."
   ]
  },
  {
   "cell_type": "code",
   "execution_count": 228,
   "metadata": {},
   "outputs": [],
   "source": [
    "labeled = labeled.query('namespace == 0.0')"
   ]
  },
  {
   "cell_type": "markdown",
   "metadata": {},
   "source": [
    "We also only want anonymous edits (that is, from IP addresses instead of usernames). This regex will include invalid IPs like 821.481.317.499 but I'm not too worried about that here. Since this data is from 2014/2015, there are no IPv6 formatted addresses to worry about."
   ]
  },
  {
   "cell_type": "code",
   "execution_count": 231,
   "metadata": {},
   "outputs": [],
   "source": [
    "def is_anon(user):\n",
    "    if re.match('^\\d{1,3}\\.\\d{1,3}\\.\\d{1,3}\\.\\d{1,3}$', user):\n",
    "        return True\n",
    "    else:\n",
    "        return False"
   ]
  },
  {
   "cell_type": "code",
   "execution_count": 232,
   "metadata": {},
   "outputs": [],
   "source": [
    "labeled['anon_user'] = labeled['user'].map(is_anon)"
   ]
  },
  {
   "cell_type": "code",
   "execution_count": 235,
   "metadata": {},
   "outputs": [],
   "source": [
    "labeled_anon = labeled[labeled['anon_user']]"
   ]
  },
  {
   "cell_type": "markdown",
   "metadata": {},
   "source": [
    "Down to just over 3,000 edits, from our original 20,000. Oh well!"
   ]
  },
  {
   "cell_type": "code",
   "execution_count": 236,
   "metadata": {},
   "outputs": [
    {
     "data": {
      "text/plain": [
       "3178"
      ]
     },
     "execution_count": 236,
     "metadata": {},
     "output_type": "execute_result"
    }
   ],
   "source": [
    "len(labeled_anon)"
   ]
  },
  {
   "cell_type": "code",
   "execution_count": 239,
   "metadata": {},
   "outputs": [
    {
     "data": {
      "text/plain": [
       "False    0.855591\n",
       "True     0.144409\n",
       "Name: damaging, dtype: float64"
      ]
     },
     "execution_count": 239,
     "metadata": {},
     "output_type": "execute_result"
    }
   ],
   "source": [
    "labeled_anon['damaging'].value_counts(normalize=True)"
   ]
  },
  {
   "cell_type": "code",
   "execution_count": 242,
   "metadata": {},
   "outputs": [],
   "source": [
    "labeled_anon = labeled_anon.drop(['campaign_id', 'namespace', 'anon_user'], axis=1)"
   ]
  },
  {
   "cell_type": "markdown",
   "metadata": {},
   "source": [
    "`geocode_ips` uses the GeoLite2 database to assign locations based on IPs."
   ]
  },
  {
   "cell_type": "code",
   "execution_count": 254,
   "metadata": {},
   "outputs": [],
   "source": [
    "labeled_anon = p5utils.geocode_ips(labeled_anon, 'user')"
   ]
  },
  {
   "cell_type": "markdown",
   "metadata": {},
   "source": [
    "Use geocoder for the handful of IPs where GeoLite2 didn't work."
   ]
  },
  {
   "cell_type": "code",
   "execution_count": 271,
   "metadata": {},
   "outputs": [],
   "source": [
    "for ip in labeled_anon[labeled_anon['lat'].isna()]['user']:\n",
    "    g = geocoder.ip(ip)\n",
    "    labeled_anon.loc[labeled_anon['user']==ip, 'lat'] = g.lat\n",
    "    labeled_anon.loc[labeled_anon['user']==ip, 'lng'] = g.lng\n",
    "    labeled_anon.loc[labeled_anon['user']==ip, 'city'] = g.city\n",
    "    labeled_anon.loc[labeled_anon['user']==ip, 'state'] = g.state\n",
    "#     labeled_anon.loc[labeled_anon['actor_name']==ip, 'country'] = 'United States'\n",
    "    labeled_anon.loc[labeled_anon['user']==ip, 'country_iso'] = g.country"
   ]
  },
  {
   "cell_type": "code",
   "execution_count": 275,
   "metadata": {},
   "outputs": [],
   "source": [
    "for ip in labeled_anon[labeled_anon['country'].isna()]['user']:\n",
    "    g = geocoder.ip(ip)\n",
    "    labeled_anon.loc[labeled_anon['user']==ip, 'lat'] = g.lat\n",
    "    labeled_anon.loc[labeled_anon['user']==ip, 'lng'] = g.lng\n",
    "    labeled_anon.loc[labeled_anon['user']==ip, 'city'] = g.city\n",
    "    labeled_anon.loc[labeled_anon['user']==ip, 'state'] = g.state\n",
    "#     labeled_anon.loc[labeled_anon['actor_name']==ip, 'country'] = 'United States'\n",
    "    labeled_anon.loc[labeled_anon['user']==ip, 'country_iso'] = g.country"
   ]
  },
  {
   "cell_type": "markdown",
   "metadata": {},
   "source": [
    "Getting ORES data from the API took only a few minutes using 50-revision batches."
   ]
  },
  {
   "cell_type": "code",
   "execution_count": 312,
   "metadata": {},
   "outputs": [],
   "source": [
    "revision_chunks = np.array_split(labeled_anon['rev_id'], len(labeled_anon)//50)"
   ]
  },
  {
   "cell_type": "code",
   "execution_count": 324,
   "metadata": {},
   "outputs": [
    {
     "name": "stdout",
     "output_type": "stream",
     "text": [
      "getting chunk number 0...\n",
      "getting chunk number 1...\n",
      "getting chunk number 2...\n",
      "getting chunk number 3...\n",
      "getting chunk number 4...\n",
      "getting chunk number 5...\n",
      "getting chunk number 6...\n",
      "getting chunk number 7...\n",
      "getting chunk number 8...\n",
      "getting chunk number 9...\n",
      "getting chunk number 10...\n",
      "getting chunk number 11...\n",
      "getting chunk number 12...\n",
      "getting chunk number 13...\n",
      "getting chunk number 14...\n",
      "getting chunk number 15...\n",
      "getting chunk number 16...\n",
      "getting chunk number 17...\n",
      "getting chunk number 18...\n",
      "getting chunk number 19...\n",
      "getting chunk number 20...\n",
      "getting chunk number 21...\n",
      "getting chunk number 22...\n",
      "getting chunk number 23...\n",
      "getting chunk number 24...\n",
      "getting chunk number 25...\n",
      "getting chunk number 26...\n",
      "getting chunk number 27...\n",
      "getting chunk number 28...\n",
      "getting chunk number 29...\n",
      "getting chunk number 30...\n",
      "getting chunk number 31...\n",
      "getting chunk number 32...\n",
      "getting chunk number 33...\n",
      "getting chunk number 34...\n",
      "getting chunk number 35...\n",
      "getting chunk number 36...\n",
      "getting chunk number 37...\n",
      "getting chunk number 38...\n",
      "getting chunk number 39...\n",
      "getting chunk number 40...\n",
      "getting chunk number 41...\n",
      "getting chunk number 42...\n",
      "getting chunk number 43...\n",
      "getting chunk number 44...\n",
      "getting chunk number 45...\n",
      "getting chunk number 46...\n",
      "getting chunk number 47...\n",
      "getting chunk number 48...\n",
      "getting chunk number 49...\n",
      "getting chunk number 50...\n",
      "getting chunk number 51...\n",
      "getting chunk number 52...\n",
      "getting chunk number 53...\n",
      "getting chunk number 54...\n",
      "getting chunk number 55...\n",
      "getting chunk number 56...\n",
      "getting chunk number 57...\n",
      "getting chunk number 58...\n",
      "getting chunk number 59...\n",
      "getting chunk number 60...\n",
      "getting chunk number 61...\n",
      "getting chunk number 62...\n"
     ]
    }
   ],
   "source": [
    "ores_dfs = []\n",
    "for i, chunk in enumerate(revision_chunks):\n",
    "    print(f\"getting chunk number {i}...\")\n",
    "    session = requests.Session()\n",
    "    df = p5utils.get_ores_data(chunk, session)\n",
    "    ores_dfs.append(df)"
   ]
  },
  {
   "cell_type": "code",
   "execution_count": 328,
   "metadata": {},
   "outputs": [],
   "source": [
    "ores_data = pd.concat(ores_dfs)"
   ]
  },
  {
   "cell_type": "code",
   "execution_count": 330,
   "metadata": {},
   "outputs": [],
   "source": [
    "ores_data['rev_id'] = ores_data['rev_id'].map(int)"
   ]
  },
  {
   "cell_type": "code",
   "execution_count": 335,
   "metadata": {},
   "outputs": [],
   "source": [
    "labeled_ores = pd.merge(labeled_anon, ores_data, on='rev_id')"
   ]
  },
  {
   "cell_type": "markdown",
   "metadata": {},
   "source": [
    "Let's see how ORES does separating the damaging and non-damaging edits. "
   ]
  },
  {
   "cell_type": "code",
   "execution_count": 339,
   "metadata": {},
   "outputs": [],
   "source": [
    "import matplotlib.pyplot as plt\n",
    "import seaborn as sns\n",
    "%matplotlib inline"
   ]
  },
  {
   "cell_type": "code",
   "execution_count": 342,
   "metadata": {},
   "outputs": [
    {
     "data": {
      "text/plain": [
       "<matplotlib.axes._subplots.AxesSubplot at 0x13e1836a0>"
      ]
     },
     "execution_count": 342,
     "metadata": {},
     "output_type": "execute_result"
    },
    {
     "data": {
      "image/png": "[encoded data removed]",
      "text/plain": [
       "<Figure size 432x288 with 1 Axes>"
      ]
     },
     "metadata": {
      "needs_background": "light"
     },
     "output_type": "display_data"
    }
   ],
   "source": [
    "sns.distplot(labeled_ores.query('damaging==True')['damaging_prob'])\n",
    "sns.distplot(labeled_ores.query('damaging==False')['damaging_prob'])"
   ]
  },
  {
   "cell_type": "markdown",
   "metadata": {},
   "source": [
    "Since it was literally trained on this data, it does unfairly well. Now that we have our labeled test data ready to go, let's pickle it for later."
   ]
  },
  {
   "cell_type": "code",
   "execution_count": null,
   "metadata": {},
   "outputs": [],
   "source": [
    "import pickle\n",
    "with open('./labeled_ores.pkl', 'wb') as f:\n",
    "    pickle.dump(labeled_ores, f)"
   ]
  }
 ],
 "metadata": {
  "kernelspec": {
   "display_name": "Python 3",
   "language": "python",
   "name": "python3"
  },
  "language_info": {
   "codemirror_mode": {
    "name": "ipython",
    "version": 3
   },
   "file_extension": ".py",
   "mimetype": "text/x-python",
   "name": "python",
   "nbconvert_exporter": "python",
   "pygments_lexer": "ipython3",
   "version": "3.7.3"
  }
 },
 "nbformat": 4,
 "nbformat_minor": 2
}
