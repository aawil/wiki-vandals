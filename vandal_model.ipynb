{
 "cells": [
  {
   "cell_type": "raw",
   "metadata": {},
   "source": [
    "####################################\n",
    "# Project 5: Passion Project       #\n",
    "#                                  #\n",
    "# Investigating anonyous vandalism #\n",
    "# on Wikipedia                     #\n",
    "#                                  #\n",
    "# Model development and testing    #\n",
    "#                                  #\n",
    "# Aaron Wilson                     #\n",
    "#                                  #\n",
    "# June 19, 2019                    #\n",
    "####################################"
   ]
  },
  {
   "cell_type": "markdown",
   "metadata": {},
   "source": [
    "This notebook uses the hand-labeled data and SQL-derived data prepared previously. Here we develop, train, and test a gradient boosting classifier to assign a vandalism probability score using a sample of the latter data, then validate it using the hand-labeled 'ground truth.' This model is essentially a toy version of the ORES vandalism detection tool used by Wikipedia to flag potentially harmful edits."
   ]
  },
  {
   "cell_type": "code",
   "execution_count": 712,
   "metadata": {},
   "outputs": [],
   "source": [
    "import pandas as pd\n",
    "import numpy as np\n",
    "from sklearn.linear_model import LogisticRegression\n",
    "from sklearn.linear_model import LogisticRegressionCV\n",
    "from sklearn.ensemble import GradientBoostingClassifier\n",
    "from sklearn.model_selection import train_test_split\n",
    "from sklearn.metrics import confusion_matrix, f1_score, accuracy_score, precision_score, recall_score\n",
    "from sklearn.metrics import roc_curve, roc_auc_score\n",
    "from imblearn.over_sampling import SMOTE\n",
    "import p5utils\n",
    "import re\n",
    "import textblob\n",
    "import pickle\n",
    "import mwapi"
   ]
  },
  {
   "cell_type": "markdown",
   "metadata": {},
   "source": [
    "I actually started with the human-labeled data."
   ]
  },
  {
   "cell_type": "code",
   "execution_count": 4,
   "metadata": {},
   "outputs": [],
   "source": [
    "with open(\"./labeled_ores.pkl\", \"rb\") as f:\n",
    "    labeled_ores = pickle.load(f)"
   ]
  },
  {
   "cell_type": "code",
   "execution_count": 46,
   "metadata": {},
   "outputs": [],
   "source": [
    "labeled_ores = labeled_ores[labeled_ores['damaging'].notna()].reset_index()"
   ]
  },
  {
   "cell_type": "markdown",
   "metadata": {},
   "source": [
    "Let's get a few additional features in the labeled data."
   ]
  },
  {
   "cell_type": "code",
   "execution_count": 19,
   "metadata": {},
   "outputs": [
    {
     "name": "stderr",
     "output_type": "stream",
     "text": [
      "/anaconda3/lib/python3.7/site-packages/pandas/core/indexing.py:543: SettingWithCopyWarning: \n",
      "A value is trying to be set on a copy of a slice from a DataFrame.\n",
      "Try using .loc[row_indexer,col_indexer] = value instead\n",
      "\n",
      "See the caveats in the documentation: http://pandas.pydata.org/pandas-docs/stable/indexing.html#indexing-view-versus-copy\n",
      "  self.obj[item] = s\n"
     ]
    }
   ],
   "source": [
    "labeled_ores.loc[:, 'diff'] = labeled_ores['tosize'] - labeled_ores['fromsize']\n",
    "labeled_ores.loc[:, 'added_bytes'] = labeled_ores['diff'].map(lambda x: x if x > 0 else 0)\n",
    "labeled_ores.loc[:, 'deleted_bytes'] = labeled_ores['diff'].map(lambda x: -x if x < 0 else 0)"
   ]
  },
  {
   "cell_type": "markdown",
   "metadata": {},
   "source": [
    "A little function to pull four dummy variables out of our article topic columns."
   ]
  },
  {
   "cell_type": "code",
   "execution_count": 47,
   "metadata": {},
   "outputs": [],
   "source": [
    "def topic_dummies(drafttopics):\n",
    "    culture = 0\n",
    "    geography = 0\n",
    "    hist_soc = 0\n",
    "    stem = 0\n",
    "    for topic in drafttopics:\n",
    "        topic = topic.split('.')[0]\n",
    "        if topic==\"Culture\":\n",
    "            culture = 1\n",
    "        if topic==\"Geography\":\n",
    "            geography = 1\n",
    "        if topic==\"History_And_Society\":\n",
    "            hist_soc = 1\n",
    "        if topic==\"STEM\":\n",
    "            stem = 1\n",
    "    return culture, geography, hist_soc, stem"
   ]
  },
  {
   "cell_type": "code",
   "execution_count": 48,
   "metadata": {},
   "outputs": [],
   "source": [
    "cat_dummies = pd.DataFrame(labeled_ores['drafttopic'].map(topic_dummies).tolist())"
   ]
  },
  {
   "cell_type": "code",
   "execution_count": 49,
   "metadata": {},
   "outputs": [],
   "source": [
    "labeled_ores[['culture', 'geography', 'hist_soc', 'stem']] = cat_dummies"
   ]
  },
  {
   "cell_type": "markdown",
   "metadata": {},
   "source": [
    "Let's also merge in the average country damage probability."
   ]
  },
  {
   "cell_type": "code",
   "execution_count": 53,
   "metadata": {},
   "outputs": [],
   "source": [
    "with open('country_iso_damage.pkl', 'rb') as f:\n",
    "    country_iso_damage = pickle.load(f)"
   ]
  },
  {
   "cell_type": "code",
   "execution_count": 60,
   "metadata": {},
   "outputs": [],
   "source": [
    "country_iso_damage = country_iso_damage.rename({'damage_prob': 'country_damage'}, axis=1)"
   ]
  },
  {
   "cell_type": "code",
   "execution_count": 64,
   "metadata": {},
   "outputs": [],
   "source": [
    "labeled_ores = pd.merge(labeled_ores,\n",
    "                        country_iso_damage,\n",
    "                        on='country_iso')\\\n",
    "                 .drop(['index', 'pct_diff'], axis=1)"
   ]
  },
  {
   "cell_type": "markdown",
   "metadata": {},
   "source": [
    "And finally, the most exciting feature: the bad words count. I based my bad words lists on those used by the [revscoring tool](https://github.com/wikimedia/revscoring/blob/master/revscoring/languages/english.py) (CAUTION: very rude), which ORES is built on, with a few additions of my own. I initially split the list into \"very bad words\" (curse words, racial slurs) and \"bad words\" (informal language, mentions of Wikipedia), but my model performed better when they were aggregated into one list."
   ]
  },
  {
   "cell_type": "code",
   "execution_count": 670,
   "metadata": {},
   "outputs": [],
   "source": [
    "def count_badwords(text):\n",
    "    text = \" \".join(text)\n",
    "    text = re.sub(\"\\{\\{.*\\}\\}|<.*>\", \"\", text)\n",
    "    text = textblob.TextBlob(text)\n",
    "    badwords_count = 0\n",
    "    for word in text.words:\n",
    "        if re.fullmatch(r\"[A-Z]{4,}\\b\", word):\n",
    "            badwords_count += 1\n",
    "        word = word.lower()\n",
    "        for badword in p5utils.badwords + p5utils.verybadwords:\n",
    "            if re.fullmatch(badword, word):\n",
    "                badwords_count += 1\n",
    "    return badwords_count"
   ]
  },
  {
   "cell_type": "code",
   "execution_count": 673,
   "metadata": {},
   "outputs": [],
   "source": [
    "labeled_ores['badwords'] = labeled_ores['additions'].map(count_badwords)"
   ]
  },
  {
   "cell_type": "code",
   "execution_count": 674,
   "metadata": {},
   "outputs": [
    {
     "data": {
      "text/plain": [
       "6.750556792873051"
      ]
     },
     "execution_count": 674,
     "metadata": {},
     "output_type": "execute_result"
    }
   ],
   "source": [
    "labeled_ores.query('damaging==True')['badwords'].mean()"
   ]
  },
  {
   "cell_type": "code",
   "execution_count": 675,
   "metadata": {},
   "outputs": [
    {
     "data": {
      "text/plain": [
       "0.1350844277673546"
      ]
     },
     "execution_count": 675,
     "metadata": {},
     "output_type": "execute_result"
    }
   ],
   "source": [
    "labeled_ores.query('damaging==False')['badwords'].mean()"
   ]
  },
  {
   "cell_type": "code",
   "execution_count": 797,
   "metadata": {},
   "outputs": [],
   "source": [
    "def get_vectors(df):\n",
    "    X = df[['badwords', 'fromsize', 'added_bytes', 'deleted_bytes',\n",
    "                  'country_damage', 'culture', 'geography', 'hist_soc', 'stem']]\n",
    "    y = df['damaging'].map(int)\n",
    "\n",
    "    X_train, X_test, y_train, y_test = train_test_split(X, y,\n",
    "                                                    test_size=0.1,\n",
    "                                                    random_state=123,\n",
    "                                                    stratify=df['damaging'])\n",
    "    \n",
    "    return X_train, X_test, y_train, y_test"
   ]
  },
  {
   "cell_type": "markdown",
   "metadata": {},
   "source": [
    "Let's build two baseline \"models\" that either classify everything as the majority class, or guess randomly based on the class distribution."
   ]
  },
  {
   "cell_type": "code",
   "execution_count": 412,
   "metadata": {},
   "outputs": [
    {
     "data": {
      "text/plain": [
       "False    0.855812\n",
       "True     0.144188\n",
       "Name: damaging, dtype: float64"
      ]
     },
     "execution_count": 412,
     "metadata": {},
     "output_type": "execute_result"
    }
   ],
   "source": [
    "labeled_ores['damaging'].value_counts(normalize=True)"
   ]
  },
  {
   "cell_type": "code",
   "execution_count": 317,
   "metadata": {},
   "outputs": [],
   "source": [
    "def informed_guess_model(X):\n",
    "    np.random.seed(123)\n",
    "    length = X.shape[0]\n",
    "    pred = np.zeros(length)\n",
    "    cutoff = int(length*0.144) # see above\n",
    "    pred[:cutoff] = 1\n",
    "    np.random.shuffle(pred)\n",
    "    return pred"
   ]
  },
  {
   "cell_type": "code",
   "execution_count": 826,
   "metadata": {},
   "outputs": [],
   "source": [
    "def print_metrics(y_true, y_pred):\n",
    "    print(\"Accuracy score:\", accuracy_score(y_true, y_pred))\n",
    "    print(\"F1 score:\", f1_score(y_true, y_pred))\n",
    "    print(\"ROC AUC score:\", roc_auc_score(y_true, y_pred))\n",
    "    print(\"Confusion matrix:\\n\", confusion_matrix(y_true, y_pred))"
   ]
  },
  {
   "cell_type": "code",
   "execution_count": 832,
   "metadata": {},
   "outputs": [],
   "source": [
    "X_train, X_test, y_train, y_test = get_vectors(labeled_ores)"
   ]
  },
  {
   "cell_type": "code",
   "execution_count": 833,
   "metadata": {},
   "outputs": [
    {
     "name": "stdout",
     "output_type": "stream",
     "text": [
      "Accuracy score: 0.7548179871520343\n",
      "F1 score: 0.14869888475836432\n",
      "ROC AUC score: 0.5027394941328995\n",
      "Confusion matrix:\n",
      " [[2055  343]\n",
      " [ 344   60]]\n"
     ]
    }
   ],
   "source": [
    "y_pred = informed_guess_model(X_train)\n",
    "print_metrics(y_train, y_pred)"
   ]
  },
  {
   "cell_type": "code",
   "execution_count": 564,
   "metadata": {},
   "outputs": [],
   "source": [
    "def always_nonvandal_model(X):\n",
    "    return np.zeros(X.shape[0])"
   ]
  },
  {
   "cell_type": "code",
   "execution_count": 834,
   "metadata": {},
   "outputs": [
    {
     "name": "stdout",
     "output_type": "stream",
     "text": [
      "Accuracy score: 0.8558172733761599\n",
      "F1 score: 0.0\n",
      "ROC AUC score: 0.5\n",
      "Confusion matrix:\n",
      " [[2398    0]\n",
      " [ 404    0]]\n"
     ]
    },
    {
     "name": "stderr",
     "output_type": "stream",
     "text": [
      "/anaconda3/lib/python3.7/site-packages/sklearn/metrics/classification.py:1437: UndefinedMetricWarning: F-score is ill-defined and being set to 0.0 due to no predicted samples.\n",
      "  'precision', 'predicted', average, warn_for)\n"
     ]
    }
   ],
   "source": [
    "y_pred = always_nonvandal_model(X_train)\n",
    "print_metrics(y_train, y_pred)"
   ]
  },
  {
   "cell_type": "markdown",
   "metadata": {},
   "source": [
    "Some fairly unscientific model exploration. After a few dead ends it seemed like a tree ensemble model, like gradient boosting, did the best by far."
   ]
  },
  {
   "cell_type": "code",
   "execution_count": 839,
   "metadata": {},
   "outputs": [],
   "source": [
    "def fit_and_test(model):\n",
    "    sm = SMOTE(sampling_strategy=0.85, random_state=123)\n",
    "    X_smote, y_smote = sm.fit_resample(X_train, y_train)\n",
    "    model.fit(X_smote, y_smote)\n",
    "    y_pred = model.predict(X_test)\n",
    "    print_metrics(y_test, y_pred)"
   ]
  },
  {
   "cell_type": "code",
   "execution_count": 840,
   "metadata": {},
   "outputs": [
    {
     "name": "stdout",
     "output_type": "stream",
     "text": [
      "Accuracy score: 0.8044871794871795\n",
      "F1 score: 0.2823529411764706\n",
      "ROC AUC score: 0.5808988764044942\n",
      "Confusion matrix:\n",
      " [[239  28]\n",
      " [ 33  12]]\n"
     ]
    }
   ],
   "source": [
    "lr = LogisticRegressionCV(Cs=20, cv=5, scoring='accuracy', random_state=123)\n",
    "fit_and_test(lr)"
   ]
  },
  {
   "cell_type": "code",
   "execution_count": 330,
   "metadata": {},
   "outputs": [],
   "source": [
    "import matplotlib.pyplot as plt\n",
    "import seaborn as sns\n",
    "%matplotlib inline"
   ]
  },
  {
   "cell_type": "code",
   "execution_count": 361,
   "metadata": {},
   "outputs": [],
   "source": [
    "labeled_ores['lr_proba'] = lr.predict_proba(X)[:,1]"
   ]
  },
  {
   "cell_type": "code",
   "execution_count": 362,
   "metadata": {},
   "outputs": [
    {
     "data": {
      "text/plain": [
       "<matplotlib.axes._subplots.AxesSubplot at 0x1267dc860>"
      ]
     },
     "execution_count": 362,
     "metadata": {},
     "output_type": "execute_result"
    },
    {
     "data": {
      "image/png": "[encoded data removed]",
      "text/plain": [
       "<Figure size 432x288 with 1 Axes>"
      ]
     },
     "metadata": {
      "needs_background": "light"
     },
     "output_type": "display_data"
    }
   ],
   "source": [
    "sns.distplot(labeled_ores.query('damaging==True')['lr_proba'])\n",
    "sns.distplot(labeled_ores.query('damaging==False')['lr_proba'])"
   ]
  },
  {
   "cell_type": "code",
   "execution_count": 843,
   "metadata": {},
   "outputs": [
    {
     "name": "stdout",
     "output_type": "stream",
     "text": [
      "Accuracy score: 0.8589743589743589\n",
      "F1 score: 0.26666666666666666\n",
      "ROC AUC score: 0.5757802746566791\n",
      "Confusion matrix:\n",
      " [[260   7]\n",
      " [ 37   8]]\n"
     ]
    }
   ],
   "source": [
    "gb = GradientBoostingClassifier(learning_rate = 0.01, n_estimators=500)\n",
    "fit_and_test(gb)"
   ]
  },
  {
   "cell_type": "markdown",
   "metadata": {},
   "source": [
    "This looks better than it should, because it's including the training data."
   ]
  },
  {
   "cell_type": "code",
   "execution_count": 392,
   "metadata": {},
   "outputs": [],
   "source": [
    "labeled_ores['gb_proba'] = gb.predict_proba(X)[:,1]"
   ]
  },
  {
   "cell_type": "code",
   "execution_count": 393,
   "metadata": {},
   "outputs": [
    {
     "data": {
      "text/plain": [
       "<matplotlib.axes._subplots.AxesSubplot at 0x127d390b8>"
      ]
     },
     "execution_count": 393,
     "metadata": {},
     "output_type": "execute_result"
    },
    {
     "data": {
      "image/png": "[encoded data removed]",
      "text/plain": [
       "<Figure size 432x288 with 1 Axes>"
      ]
     },
     "metadata": {
      "needs_background": "light"
     },
     "output_type": "display_data"
    }
   ],
   "source": [
    "sns.distplot(labeled_ores.query('damaging==True')['gb_proba'])\n",
    "sns.distplot(labeled_ores.query('damaging==False')['gb_proba'])"
   ]
  },
  {
   "cell_type": "markdown",
   "metadata": {},
   "source": [
    "Since my human-labeled data was rather small, I decided to train on a 10,000 row sample of my massive 2019 machine-labeled data."
   ]
  },
  {
   "cell_type": "code",
   "execution_count": 445,
   "metadata": {},
   "outputs": [],
   "source": [
    "with open('changes_sample_ores.pkl', 'rb') as f:\n",
    "    changes_sample = pickle.load(f)"
   ]
  },
  {
   "cell_type": "code",
   "execution_count": 449,
   "metadata": {},
   "outputs": [],
   "source": [
    "changes_sample = pd.merge(changes_sample,\n",
    "                        country_iso_damage,\n",
    "                        on='country_iso')\\\n",
    "                 .drop(['pct_diff'], axis=1)"
   ]
  },
  {
   "cell_type": "code",
   "execution_count": 451,
   "metadata": {},
   "outputs": [],
   "source": [
    "changes_sample.loc[:, 'added_bytes'] = changes_sample['len_diff'].map(lambda x: x if x > 0 else 0)\n",
    "changes_sample.loc[:, 'deleted_bytes'] = changes_sample['len_diff'].map(lambda x: -x if x < 0 else 0)"
   ]
  },
  {
   "cell_type": "code",
   "execution_count": 453,
   "metadata": {},
   "outputs": [],
   "source": [
    "changes_sample = changes_sample.rename({'rc_old_len': 'fromsize', 'rc_new_len': 'tosize'}, axis=1)"
   ]
  },
  {
   "cell_type": "code",
   "execution_count": 459,
   "metadata": {},
   "outputs": [],
   "source": [
    "cat_dummies = pd.DataFrame(changes_sample['drafttopic'].map(topic_dummies).tolist())\n",
    "changes_sample[['culture', 'geography', 'hist_soc', 'stem']] = cat_dummies"
   ]
  },
  {
   "cell_type": "code",
   "execution_count": 676,
   "metadata": {},
   "outputs": [],
   "source": [
    "changes_sample['badwords'] = changes_sample['additions'].map(count_badwords)"
   ]
  },
  {
   "cell_type": "code",
   "execution_count": 798,
   "metadata": {},
   "outputs": [],
   "source": [
    "X_train, X_test, y_train, y_test = get_vectors(changes_sample)"
   ]
  },
  {
   "cell_type": "code",
   "execution_count": 837,
   "metadata": {},
   "outputs": [],
   "source": [
    "def fit_and_test_gb(learning_rate, smote_strat):\n",
    "    gb = GradientBoostingClassifier(learning_rate=learning_rate, n_estimators=500, max_depth=3)\n",
    "    sm = SMOTE(sampling_strategy=smote_strat, random_state=123)\n",
    "    X_smote, y_smote = sm.fit_resample(X_train, y_train)\n",
    "    gb.fit(X_smote, y_smote)\n",
    "    y_pred = gb.predict(X_test)\n",
    "    print_metrics(y_test, y_pred)\n",
    "    return gb"
   ]
  },
  {
   "cell_type": "code",
   "execution_count": 810,
   "metadata": {},
   "outputs": [
    {
     "name": "stdout",
     "output_type": "stream",
     "text": [
      "Accuracy score: 0.8646464646464647\n",
      "F1 score: 0.3557692307692307\n",
      "ROC AUC score: 0.6131826335370715\n",
      "Confusion matrix:\n",
      " [[819  29]\n",
      " [105  37]]\n"
     ]
    }
   ],
   "source": [
    "gb = fit_and_test_gb(0.01, 0.95)"
   ]
  },
  {
   "cell_type": "markdown",
   "metadata": {},
   "source": [
    "Some hyperparameter tuning. Yes, yes, I should have done this across K folds instead of a single test set. At least I'm going to do my final testing against the human labeled data."
   ]
  },
  {
   "cell_type": "code",
   "execution_count": 809,
   "metadata": {},
   "outputs": [
    {
     "name": "stdout",
     "output_type": "stream",
     "text": [
      "SMOTE strategy: 0.3\n",
      "Accuracy score: 0.8646464646464647\n",
      "F1 score: 0.26373626373626374\n",
      "ROC AUC score: 0.5750730799893702\n",
      "Confusion matrix:\n",
      " [[832  16]\n",
      " [118  24]]\n",
      "SMOTE strategy: 0.3\n",
      "Accuracy score: 0.8686868686868687\n",
      "F1 score: 0.28571428571428575\n",
      "ROC AUC score: 0.5832945787935158\n",
      "Confusion matrix:\n",
      " [[834  14]\n",
      " [116  26]]\n",
      "SMOTE strategy: 0.3\n",
      "Accuracy score: 0.8707070707070707\n",
      "F1 score: 0.2967032967032967\n",
      "ROC AUC score: 0.5874053281955885\n",
      "Confusion matrix:\n",
      " [[835  13]\n",
      " [115  27]]\n",
      "SMOTE strategy: 0.3\n",
      "Accuracy score: 0.8666666666666667\n",
      "F1 score: 0.2826086956521739\n",
      "ROC AUC score: 0.5821153335104969\n",
      "Confusion matrix:\n",
      " [[832  16]\n",
      " [116  26]]\n",
      "SMOTE strategy: 0.3\n",
      "Accuracy score: 0.8717171717171717\n",
      "F1 score: 0.3280423280423281\n",
      "ROC AUC score: 0.5997209673133138\n",
      "Confusion matrix:\n",
      " [[832  16]\n",
      " [111  31]]\n",
      "SMOTE strategy: 0.3\n",
      "Accuracy score: 0.8707070707070707\n",
      "F1 score: 0.32631578947368417\n",
      "ROC AUC score: 0.5991313446718044\n",
      "Confusion matrix:\n",
      " [[831  17]\n",
      " [111  31]]\n",
      "SMOTE strategy: 0.3\n",
      "Accuracy score: 0.8676767676767677\n",
      "F1 score: 0.33502538071065985\n",
      "ROC AUC score: 0.603225484985384\n",
      "Confusion matrix:\n",
      " [[826  22]\n",
      " [109  33]]\n",
      "SMOTE strategy: 0.3\n",
      "Accuracy score: 0.8646464646464647\n",
      "F1 score: 0.31632653061224486\n",
      "ROC AUC score: 0.5955936088227478\n",
      "Confusion matrix:\n",
      " [[825  23]\n",
      " [111  31]]\n",
      "SMOTE strategy: 0.3\n",
      "Accuracy score: 0.8636363636363636\n",
      "F1 score: 0.36619718309859156\n",
      "ROC AUC score: 0.61845601913367\n",
      "Confusion matrix:\n",
      " [[816  32]\n",
      " [103  39]]\n",
      "SMOTE strategy: 0.3\n",
      "Accuracy score: 0.8575757575757575\n",
      "F1 score: 0.36199095022624433\n",
      "ROC AUC score: 0.6178497874036672\n",
      "Confusion matrix:\n",
      " [[809  39]\n",
      " [102  40]]\n"
     ]
    }
   ],
   "source": [
    "for smote in np.linspace(0.5, 1.0, 10):\n",
    "    print(\"SMOTE strategy:\", smote)\n",
    "    fit_and_test_gb(0.01, smote)"
   ]
  },
  {
   "cell_type": "code",
   "execution_count": 808,
   "metadata": {},
   "outputs": [
    {
     "name": "stdout",
     "output_type": "stream",
     "text": [
      "Rate: 0.005\n",
      "Accuracy score: 0.8676767676767677\n",
      "F1 score: 0.3282051282051282\n",
      "ROC AUC score: 0.60029398086633\n",
      "Confusion matrix:\n",
      " [[827  21]\n",
      " [110  32]]\n",
      "Rate: 0.03777777777777777\n",
      "Accuracy score: 0.8656565656565657\n",
      "F1 score: 0.2810810810810811\n",
      "ROC AUC score: 0.5815257108689875\n",
      "Confusion matrix:\n",
      " [[831  17]\n",
      " [116  26]]\n",
      "Rate: 0.07055555555555555\n",
      "Accuracy score: 0.8686868686868687\n",
      "F1 score: 0.3157894736842105\n",
      "ROC AUC score: 0.5950205952697315\n",
      "Confusion matrix:\n",
      " [[830  18]\n",
      " [112  30]]\n",
      "Rate: 0.10333333333333333\n",
      "Accuracy score: 0.8686868686868687\n",
      "F1 score: 0.32291666666666663\n",
      "ROC AUC score: 0.5979520993887856\n",
      "Confusion matrix:\n",
      " [[829  19]\n",
      " [111  31]]\n",
      "Rate: 0.1361111111111111\n",
      "Accuracy score: 0.8626262626262626\n",
      "F1 score: 0.2989690721649485\n",
      "ROC AUC score: 0.588551355301621\n",
      "Confusion matrix:\n",
      " [[825  23]\n",
      " [113  29]]\n",
      "Rate: 0.16888888888888887\n",
      "Accuracy score: 0.8606060606060606\n",
      "F1 score: 0.28865979381443296\n",
      "ROC AUC score: 0.5844406058995482\n",
      "Confusion matrix:\n",
      " [[824  24]\n",
      " [114  28]]\n",
      "Rate: 0.20166666666666666\n",
      "Accuracy score: 0.8575757575757575\n",
      "F1 score: 0.29145728643216084\n",
      "ROC AUC score: 0.5856032420940738\n",
      "Confusion matrix:\n",
      " [[820  28]\n",
      " [113  29]]\n",
      "Rate: 0.23444444444444443\n",
      "Accuracy score: 0.8555555555555555\n",
      "F1 score: 0.2814070351758794\n",
      "ROC AUC score: 0.581492492692001\n",
      "Confusion matrix:\n",
      " [[819  29]\n",
      " [114  28]]\n",
      "Rate: 0.2672222222222222\n",
      "Accuracy score: 0.8525252525252526\n",
      "F1 score: 0.2912621359223301\n",
      "ROC AUC score: 0.5855866330055807\n",
      "Confusion matrix:\n",
      " [[814  34]\n",
      " [112  30]]\n",
      "Rate: 0.3\n",
      "Accuracy score: 0.8565656565656565\n",
      "F1 score: 0.3173076923076923\n",
      "ROC AUC score: 0.5967396359287802\n",
      "Confusion matrix:\n",
      " [[815  33]\n",
      " [109  33]]\n"
     ]
    }
   ],
   "source": [
    "for rate in np.linspace(0.005, 0.3, 10):\n",
    "    print(\"Rate:\", rate)\n",
    "    fit_and_test_gb(rate, 0.75)"
   ]
  },
  {
   "cell_type": "markdown",
   "metadata": {},
   "source": [
    "Let's see what this looks like and make a nice presentation-ready graph."
   ]
  },
  {
   "cell_type": "code",
   "execution_count": 818,
   "metadata": {},
   "outputs": [],
   "source": [
    "def proba_plot(model, X, y):\n",
    "    plt.figure(figsize=(16, 8))\n",
    "    proba_graph = pd.DataFrame(y).reset_index()\n",
    "    proba_graph['gb_proba'] = model.predict_proba(X)[:,1]\n",
    "    sns.distplot(proba_graph.query('damaging==False')['gb_proba'], label='Non-damaging edits')\n",
    "    sns.distplot(proba_graph.query('damaging==True')['gb_proba'], label='Damaging edits')\n",
    "    plt.xlabel('Vandalism probability, according to model', fontsize=20)\n",
    "    plt.xticks()\n",
    "    plt.yticks([])\n",
    "    plt.legend(fontsize=20)"
   ]
  },
  {
   "cell_type": "code",
   "execution_count": 819,
   "metadata": {},
   "outputs": [
    {
     "data": {
      "image/png": "[encoded data removed]",
      "text/plain": [
       "<Figure size 1152x576 with 1 Axes>"
      ]
     },
     "metadata": {
      "needs_background": "light"
     },
     "output_type": "display_data"
    }
   ],
   "source": [
    "proba_plot(gb, X_test, y_test)"
   ]
  },
  {
   "cell_type": "markdown",
   "metadata": {},
   "source": [
    "And now let's run our model using the human-labeled data as a final validation set."
   ]
  },
  {
   "cell_type": "code",
   "execution_count": 812,
   "metadata": {},
   "outputs": [
    {
     "name": "stdout",
     "output_type": "stream",
     "text": [
      "Accuracy score: 0.8497109826589595\n",
      "F1 score: 0.31578947368421056\n",
      "ROC AUC score: 0.5964398684589896\n",
      "Confusion matrix:\n",
      " [[2538  127]\n",
      " [ 341  108]]\n"
     ]
    }
   ],
   "source": [
    "X_labeled = labeled_ores[['badwords', 'fromsize', 'added_bytes', 'deleted_bytes',\n",
    "              'country_damage', 'culture', 'geography', 'hist_soc', 'stem']]\n",
    "y_labeled = labeled_ores['damaging'].map(int)\n",
    "\n",
    "# scaler = StandardScaler()\n",
    "# X_lab_scaled = scaler.fit_transform(X_labeled)\n",
    "\n",
    "y_pred = gb.predict(X_labeled)\n",
    "print(\"Accuracy score:\", accuracy_score(y_labeled, y_pred))\n",
    "print(\"F1 score:\", f1_score(y_labeled, y_pred))\n",
    "print(\"ROC AUC score:\", roc_auc_score(y_labeled, y_pred))\n",
    "print(\"Confusion matrix:\\n\", confusion_matrix(y_labeled, y_pred))"
   ]
  },
  {
   "cell_type": "code",
   "execution_count": 813,
   "metadata": {},
   "outputs": [
    {
     "data": {
      "image/png": "[encoded data removed]",
      "text/plain": [
       "<Figure size 1008x576 with 1 Axes>"
      ]
     },
     "metadata": {
      "needs_background": "light"
     },
     "output_type": "display_data"
    }
   ],
   "source": [
    "proba_plot(gb, X_labeled, y_labeled)"
   ]
  }
 ],
 "metadata": {
  "kernelspec": {
   "display_name": "Python 3",
   "language": "python",
   "name": "python3"
  },
  "language_info": {
   "codemirror_mode": {
    "name": "ipython",
    "version": 3
   },
   "file_extension": ".py",
   "mimetype": "text/x-python",
   "name": "python",
   "nbconvert_exporter": "python",
   "pygments_lexer": "ipython3",
   "version": "3.7.3"
  }
 },
 "nbformat": 4,
 "nbformat_minor": 2
}
